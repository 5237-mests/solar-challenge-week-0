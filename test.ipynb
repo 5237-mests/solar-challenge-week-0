{
 "cells": [
  {
   "cell_type": "code",
   "execution_count": null,
   "id": "24a8257b",
   "metadata": {},
   "outputs": [],
   "source": [
    "def add_two_numbers(a, b):\n",
    "    return a + b"
   ]
  }
 ],
 "metadata": {
  "language_info": {
   "name": "python"
  }
 },
 "nbformat": 4,
 "nbformat_minor": 5
}
